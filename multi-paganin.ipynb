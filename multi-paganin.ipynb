{
 "cells": [
  {
   "cell_type": "markdown",
   "id": "b9dd4939",
   "metadata": {},
   "source": [
    "### Functions"
   ]
  },
  {
   "cell_type": "code",
   "execution_count": 1,
   "id": "9e5d55b1",
   "metadata": {},
   "outputs": [],
   "source": [
    "import astra\n",
    "\n",
    "def get_sinogram_slice(vol_slice, angles):\n",
    "    \"\"\"\n",
    "    Get a sinogram from a 3D dataset slice.\n",
    "    \n",
    "    Parameters\n",
    "    ----------\n",
    "    slice : 2D numpy.ndarray\n",
    "        Slice\n",
    "        \n",
    "    Returns\n",
    "    -------\n",
    "    numpy.ndarray\n",
    "        2D sinogram.\n",
    "        \n",
    "    \"\"\"\n",
    "    vol_geom = astra.create_vol_geom(vol_slice.shape[1], vol_slice.shape[0])\n",
    "    proj_geom = astra.create_proj_geom('parallel', 1.0, vol_slice.shape[1], angles)\n",
    "\n",
    "    projector_id = astra.create_projector('cuda', proj_geom, vol_geom)\n",
    "    _, sino  = astra.create_sino(vol_slice, projector_id)\n",
    "\n",
    "    return sino"
   ]
  },
  {
   "cell_type": "markdown",
   "id": "6cd5be6d",
   "metadata": {},
   "source": [
    "### Loading data "
   ]
  },
  {
   "cell_type": "code",
   "execution_count": 2,
   "id": "b31a9c11",
   "metadata": {},
   "outputs": [
    {
     "name": "stdout",
     "output_type": "stream",
     "text": [
      "Projections shape: (2850, 650, 1472)\n",
      "Dark shape: (650, 1472)\n",
      "Flat shape: (650, 1472)\n"
     ]
    }
   ],
   "source": [
    "import h5py\n",
    "import numpy as np\n",
    "import napari\n",
    "\n",
    "def find_datasets_with_dim_3(file, group=None, path=\"\", results=None):\n",
    "    \"\"\"\n",
    "    Find all datasets with 3 dimensions in a HDF5 file.       \n",
    "    \"\"\"\n",
    "    if results is None:\n",
    "        results = []\n",
    "\n",
    "    if group is None:\n",
    "        group = file\n",
    "\n",
    "    for key in group:\n",
    "        item = group[key]\n",
    "        current_path = f\"{path}/{key}\"\n",
    "        if isinstance(item, h5py.Group):\n",
    "            find_datasets_with_dim_3(\n",
    "                file, group=item, path=current_path, results=results\n",
    "            )\n",
    "        elif isinstance(item, h5py.Dataset):\n",
    "            if len(item.shape) == 3:\n",
    "                results.append(\n",
    "                    (current_path, item.shape)\n",
    "                ) \n",
    "    return results\n",
    "\n",
    "projs_path = r\"D:\\SOLEIL0125\\025_mdb13_nocell_nocell_2d\\025_mdb13_nocell_nocell_2d\\025_mdb13_nocell_nocell_2d.nxs\"\n",
    "dark_path = r\"D:\\SOLEIL0125\\025_mdb13_nocell_nocell_2d\\025_mdb13_nocell_nocell_2d\\post_dark.nxs\"\n",
    "flat_paths = r\"D:\\SOLEIL0125\\025_mdb13_nocell_nocell_2d\\025_mdb13_nocell_nocell_2d\\post_ref.nxs\"\n",
    "\n",
    "with h5py.File(projs_path, 'r') as file:\n",
    "    projs_key = find_datasets_with_dim_3(file)[0][0]\n",
    "    projs = np.array(file[projs_key])[:, 150:800]\n",
    "print(\"Projections shape:\", projs.shape)\n",
    "\n",
    "with h5py.File(dark_path, 'r') as file:\n",
    "    dark_key = find_datasets_with_dim_3(file)[0][0]\n",
    "    dark = np.mean(np.array(file[dark_key]), axis=0)[150:800]\n",
    "print(\"Dark shape:\", dark.shape)\n",
    "\n",
    "flat = []\n",
    "with h5py.File(flat_paths, 'r') as file:\n",
    "    flat_key = find_datasets_with_dim_3(file)[0][0]\n",
    "    flat = np.mean(np.array(file[flat_key]), axis=0)[150:800]\n",
    "print(\"Flat shape:\", flat.shape)"
   ]
  },
  {
   "cell_type": "code",
   "execution_count": 3,
   "id": "35362463",
   "metadata": {},
   "outputs": [
    {
     "name": "stdout",
     "output_type": "stream",
     "text": [
      "CoR: 287.5329942270546\n",
      "Angle padding: 0.1264044943820224\n"
     ]
    }
   ],
   "source": [
    "### Get Center of Rotation from csv file\n",
    "\n",
    "\n",
    "import pandas as pd\n",
    "import os\n",
    "\n",
    "csv_path = r\"C:\\Users\\clement.capdeville\\Documents\\GitHub\\SOLEIL25\\part_info.csv\"\n",
    "part_info = pd.read_csv(csv_path)\n",
    "filtered_info = part_info.loc[part_info[\"Path\"] == os.path.basename(projs_path).split(\".\")[0]]\n",
    "CoR = filtered_info[\"CoR\"].values[0] if not filtered_info.empty else None\n",
    "angle_padding = filtered_info[\"Angle\"].values[0] if not filtered_info.empty else None\n",
    "\n",
    "print(\"CoR:\", CoR)\n",
    "print(\"Angle padding:\", angle_padding)"
   ]
  },
  {
   "cell_type": "markdown",
   "id": "02f23abf",
   "metadata": {},
   "source": [
    "### Preprocessing"
   ]
  },
  {
   "cell_type": "code",
   "execution_count": 4,
   "id": "2a245c1f",
   "metadata": {},
   "outputs": [],
   "source": [
    "projs = (projs - dark) / (flat - dark)"
   ]
  },
  {
   "cell_type": "markdown",
   "id": "f985d2c6",
   "metadata": {},
   "source": [
    "### Raw Projections"
   ]
  },
  {
   "cell_type": "code",
   "execution_count": 5,
   "id": "dfa670d2",
   "metadata": {},
   "outputs": [
    {
     "name": "stderr",
     "output_type": "stream",
     "text": [
      "Creating sinograms: 100%|██████████| 650/650 [00:18<00:00, 35.97it/s]\n",
      "Reconstructing: 100%|██████████| 650/650 [01:47<00:00,  6.04it/s]\n"
     ]
    }
   ],
   "source": [
    "import numpy as np\n",
    "from tqdm import tqdm\n",
    "\n",
    "from src.reco_plugin.processing.reconstruction import create_angles, reconstruct_from_sinogram_slice, create_disk_mask\n",
    "from src.reco_plugin.processing.sinogram import create_sinogram\n",
    "\n",
    "sinogram = create_sinogram(projs, int(2*CoR))\n",
    "angles = create_angles(sinogram, end=np.pi)\n",
    "raw_reconstruction = np.zeros((sinogram.shape[0], sinogram.shape[2], sinogram.shape[2]), dtype=np.float32)\n",
    "mask = create_disk_mask(sinogram)\n",
    "\n",
    "for i in tqdm(range(sinogram.shape[0]), desc=\"Reconstructing\"):\n",
    "    raw_reconstruction[i] = reconstruct_from_sinogram_slice(sinogram[i], angles) * mask"
   ]
  },
  {
   "cell_type": "code",
   "execution_count": null,
   "id": "f98fd644",
   "metadata": {},
   "outputs": [],
   "source": [
    "import napari\n",
    "\n",
    "viewer = napari.Viewer()\n",
    "viewer.add_image(raw_reconstruction, name=\"Reconstruction\", colormap=\"gray\")"
   ]
  },
  {
   "cell_type": "code",
   "execution_count": 32,
   "id": "e27ec366",
   "metadata": {},
   "outputs": [
    {
     "name": "stderr",
     "output_type": "stream",
     "text": [
      "c:\\Users\\clement.capdeville\\.conda\\envs\\napari-env\\Lib\\site-packages\\tifffile\\tifffile.py:3784: UserWarning: <tifffile.TiffWriter 'raw_reconstruction.tif'> truncating ImageJ file\n",
      "  warnings.warn(\n"
     ]
    }
   ],
   "source": [
    "import tifffile as tiff\n",
    "\n",
    "tiff.imwrite(r\"raw_reconstruction.tif\", raw_reconstruction, imagej=True)"
   ]
  },
  {
   "cell_type": "markdown",
   "id": "0ee6966f",
   "metadata": {},
   "source": [
    "### 1rst Paganin : Émail"
   ]
  },
  {
   "cell_type": "code",
   "execution_count": 6,
   "id": "0e648a69",
   "metadata": {},
   "outputs": [
    {
     "name": "stderr",
     "output_type": "stream",
     "text": [
      "Processing Paganin: 100%|██████████| 2850/2850 [00:49<00:00, 57.46it/s]\n"
     ]
    }
   ],
   "source": [
    "from src.reco_plugin.processing.phase import paganin_filter\n",
    "\n",
    "energy = 40 # keV\n",
    "pixel = 12e-6 # m\n",
    "effective_pixel = pixel # m\n",
    "distance = 1.2 # m\n",
    "db = 1500\n",
    "\n",
    "pagain_proj = paganin_filter(projs, energy, pixel, effective_pixel, distance, db)['paganin']"
   ]
  },
  {
   "cell_type": "code",
   "execution_count": null,
   "id": "ed107687",
   "metadata": {},
   "outputs": [],
   "source": [
    "import napari\n",
    "\n",
    "viewer = napari.Viewer()\n",
    "viewer.add_image(pagain_proj, name=\"Pagani Projection\", colormap=\"gray\")"
   ]
  },
  {
   "cell_type": "code",
   "execution_count": 7,
   "id": "6e64de7c",
   "metadata": {},
   "outputs": [
    {
     "name": "stderr",
     "output_type": "stream",
     "text": [
      "Creating sinograms: 100%|██████████| 650/650 [00:12<00:00, 51.05it/s]\n",
      "Reconstructing: 100%|██████████| 650/650 [01:50<00:00,  5.86it/s]\n"
     ]
    }
   ],
   "source": [
    "import numpy as np\n",
    "import cupy as cp\n",
    "from tqdm import tqdm\n",
    "\n",
    "from src.reco_plugin.processing.reconstruction import create_angles, reconstruct_from_sinogram_slice, create_disk_mask\n",
    "from src.reco_plugin.processing.sinogram import create_sinogram\n",
    "from src.reco_plugin.processing.phase import unsharp_mask\n",
    "\n",
    "coeff = 0.5\n",
    "sigma = 2\n",
    "\n",
    "sinogram = create_sinogram(pagain_proj, int(2*CoR))\n",
    "angles = create_angles(sinogram, end=np.pi)\n",
    "pag_reconstruction = np.zeros((sinogram.shape[0], sinogram.shape[2], sinogram.shape[2]), dtype=np.float32)\n",
    "mask = create_disk_mask(sinogram)\n",
    "\n",
    "for i in tqdm(range(sinogram.shape[0]), desc=\"Reconstructing\"):\n",
    "    slice_ = reconstruct_from_sinogram_slice(sinogram[i], angles) * mask\n",
    "    pag_reconstruction[i] = slice_"
   ]
  },
  {
   "cell_type": "code",
   "execution_count": null,
   "id": "51b88dc2",
   "metadata": {},
   "outputs": [],
   "source": [
    "import napari\n",
    "\n",
    "viewer = napari.Viewer()\n",
    "viewer.add_image(pag_reconstruction, name=\"Paganin 1 Projection\", colormap=\"gray\")"
   ]
  },
  {
   "cell_type": "code",
   "execution_count": 8,
   "id": "f77ab688",
   "metadata": {},
   "outputs": [
    {
     "name": "stderr",
     "output_type": "stream",
     "text": [
      "Reconstructing: 100%|██████████| 650/650 [00:09<00:00, 67.01it/s]\n",
      "napari.manifest -> 'multipaganinproject' could not be imported: The name field in the manifest ('multipaganin-plugin') must match the package name ('multipaganinproject')\n",
      "WARNING: QWindowsWindow::setGeometry: Unable to set geometry 1086x655-1063+840 (frame: 1102x694-1071+809) on QWidgetWindow/\"_QtMainWindowClassWindow\" on \"\\\\.\\DISPLAY1\". Resulting geometry: 723x653-1066+826 (frame: 739x692-1074+795) margins: 8, 31, 8, 8 minimum size: 385x492 MINMAXINFO maxSize=0,0 maxpos=0,0 mintrack=401,531 maxtrack=0,0)\n"
     ]
    },
    {
     "data": {
      "text/plain": [
       "<Image layer 'Paganin 1 Projection' at 0x26b43239160>"
      ]
     },
     "execution_count": 8,
     "metadata": {},
     "output_type": "execute_result"
    }
   ],
   "source": [
    "import cupy as cp\n",
    "from tqdm import tqdm\n",
    "\n",
    "from cupyx.scipy.ndimage import binary_dilation, binary_erosion\n",
    "\n",
    "email = np.zeros_like(pag_reconstruction)\n",
    "\n",
    "for i in tqdm(range(pag_reconstruction.shape[0]), desc=\"Reconstructing\"):\n",
    "    slice_ = cp.asarray(pag_reconstruction[i])\n",
    "    slice_ = cp.where(slice_ > 25, 1, 0)\n",
    "    slice_ = binary_dilation(slice_)\n",
    "    slice_ = binary_dilation(slice_)\n",
    "    email[i] = slice_.get()\n",
    "\n",
    "viewer = napari.Viewer()\n",
    "viewer.add_image(email, name=\"Email\", colormap=\"gray\")\n",
    "viewer.add_image(pag_reconstruction, name=\"Paganin 1 Projection\", colormap=\"gray\")"
   ]
  },
  {
   "cell_type": "code",
   "execution_count": 9,
   "id": "6ec3324a",
   "metadata": {},
   "outputs": [],
   "source": [
    "final = np.zeros_like(raw_reconstruction)\n",
    "\n",
    "final[email != 0] = pag_reconstruction[email != 0]"
   ]
  },
  {
   "cell_type": "markdown",
   "id": "01e6d0f7",
   "metadata": {},
   "source": [
    "### Step 2"
   ]
  },
  {
   "cell_type": "code",
   "execution_count": null,
   "id": "0b3dbca3",
   "metadata": {},
   "outputs": [
    {
     "name": "stderr",
     "output_type": "stream",
     "text": [
      "WARNING: QWindowsWindow::setGeometry: Unable to set geometry 1086x655-1063+840 (frame: 1102x694-1071+809) on QWidgetWindow/\"_QtMainWindowClassWindow\" on \"\\\\.\\DISPLAY1\". Resulting geometry: 723x653-1066+826 (frame: 739x692-1074+795) margins: 8, 31, 8, 8 minimum size: 385x492 MINMAXINFO maxSize=0,0 maxpos=0,0 mintrack=401,531 maxtrack=0,0)\n"
     ]
    },
    {
     "data": {
      "text/plain": [
       "<Image layer 'Reconstruction' at 0x26ef0ba3500>"
      ]
     },
     "execution_count": 10,
     "metadata": {},
     "output_type": "execute_result"
    }
   ],
   "source": [
    "raw2_reconstruction = np.copy(raw_reconstruction)\n",
    "raw2_reconstruction[email != 0] = 0.00015\n",
    "\n",
    "viewer = napari.Viewer()\n",
    "viewer.add_image(raw2_reconstruction, name=\"Reconstruction\", colormap=\"gray\")"
   ]
  },
  {
   "cell_type": "code",
   "execution_count": 11,
   "id": "18cec098",
   "metadata": {},
   "outputs": [
    {
     "name": "stderr",
     "output_type": "stream",
     "text": [
      "Reconstructing: 100%|██████████| 650/650 [00:37<00:00, 17.31it/s]\n"
     ]
    }
   ],
   "source": [
    "pag2_sino = np.zeros_like(sinogram)\n",
    "\n",
    "for i in tqdm(range(raw2_reconstruction.shape[0]), desc=\"Reconstructing\"):\n",
    "    sino_ = get_sinogram_slice(raw2_reconstruction[i], angles)\n",
    "    pag2_sino[i] = sino_\n",
    "\n",
    "projs = np.swapaxes(pag2_sino, 0, 1)"
   ]
  },
  {
   "cell_type": "code",
   "execution_count": null,
   "id": "78f03603",
   "metadata": {},
   "outputs": [],
   "source": [
    "viewer = napari.Viewer()\n",
    "viewer.add_image(projs, name=\"Pagani 2 Projection\", colormap=\"gray\")"
   ]
  },
  {
   "cell_type": "code",
   "execution_count": 12,
   "id": "62e69c08",
   "metadata": {},
   "outputs": [
    {
     "name": "stderr",
     "output_type": "stream",
     "text": [
      "Processing Paganin: 100%|██████████| 1425/1425 [00:51<00:00, 27.80it/s]\n"
     ]
    }
   ],
   "source": [
    "from src.reco_plugin.processing.phase import paganin_filter\n",
    "\n",
    "energy = 40 # keV\n",
    "pixel = 12e-6 # m\n",
    "effective_pixel = pixel # m\n",
    "distance = 1.2 # m\n",
    "db = 1500\n",
    "\n",
    "pagain_proj = paganin_filter(projs, energy, pixel, effective_pixel, distance, db)['paganin']"
   ]
  },
  {
   "cell_type": "code",
   "execution_count": 13,
   "id": "30be786e",
   "metadata": {},
   "outputs": [
    {
     "name": "stderr",
     "output_type": "stream",
     "text": [
      "Reconstructing: 100%|██████████| 650/650 [01:43<00:00,  6.31it/s]\n"
     ]
    }
   ],
   "source": [
    "import numpy as np\n",
    "import cupy as cp\n",
    "from tqdm import tqdm\n",
    "\n",
    "from src.reco_plugin.processing.reconstruction import create_angles, reconstruct_from_sinogram_slice, create_disk_mask\n",
    "from src.reco_plugin.processing.sinogram import create_sinogram\n",
    "from src.reco_plugin.processing.phase import unsharp_mask\n",
    "\n",
    "coeff = 0.5\n",
    "sigma = 2\n",
    "\n",
    "sinogram = np.swapaxes(pagain_proj, 0, 1)\n",
    "angles = create_angles(sinogram, end=np.pi)\n",
    "mask = create_disk_mask(sinogram)\n",
    "\n",
    "for i in tqdm(range(sinogram.shape[0]), desc=\"Reconstructing\"):\n",
    "    slice_ = reconstruct_from_sinogram_slice(sinogram[i], angles) * mask\n",
    "    pag_reconstruction[i] = slice_"
   ]
  },
  {
   "cell_type": "code",
   "execution_count": null,
   "id": "c33dcb0c",
   "metadata": {},
   "outputs": [],
   "source": [
    "import napari\n",
    "\n",
    "viewer = napari.Viewer()\n",
    "viewer.add_image(pag_reconstruction, name=\"Paganin 2 Projection\", colormap=\"gray\")"
   ]
  },
  {
   "cell_type": "code",
   "execution_count": 14,
   "id": "95face11",
   "metadata": {},
   "outputs": [
    {
     "name": "stderr",
     "output_type": "stream",
     "text": [
      "Reconstructing: 100%|██████████| 650/650 [00:08<00:00, 77.54it/s]\n",
      "WARNING: QWindowsWindow::setGeometry: Unable to set geometry 1086x655-1063+840 (frame: 1102x694-1071+809) on QWidgetWindow/\"_QtMainWindowClassWindow\" on \"\\\\.\\DISPLAY1\". Resulting geometry: 723x653-1066+826 (frame: 739x692-1074+795) margins: 8, 31, 8, 8 minimum size: 385x492 MINMAXINFO maxSize=0,0 maxpos=0,0 mintrack=401,531 maxtrack=0,0)\n"
     ]
    },
    {
     "data": {
      "text/plain": [
       "<Image layer 'Paganin 1 Projection' at 0x26ef8280650>"
      ]
     },
     "execution_count": 14,
     "metadata": {},
     "output_type": "execute_result"
    }
   ],
   "source": [
    "import cupy as cp\n",
    "from tqdm import tqdm\n",
    "\n",
    "from cupyx.scipy.ndimage import binary_dilation, binary_erosion\n",
    "\n",
    "dentine_os = np.zeros_like(pag_reconstruction)\n",
    "\n",
    "for i in tqdm(range(pag_reconstruction.shape[0]), desc=\"Reconstructing\"):\n",
    "    slice_ = cp.asarray(pag_reconstruction[i])\n",
    "    slice_ = cp.where(slice_ > 5, 1, 0)\n",
    "    slice_ = binary_dilation(slice_)\n",
    "    slice_ = binary_dilation(slice_)\n",
    "    dentine_os[i] = slice_.get()\n",
    "\n",
    "viewer = napari.Viewer()\n",
    "viewer.add_image(dentine_os, name=\"Dentine/Os\", colormap=\"gray\")\n",
    "viewer.add_image(pag_reconstruction, name=\"Paganin 1 Projection\", colormap=\"gray\")"
   ]
  },
  {
   "cell_type": "code",
   "execution_count": 15,
   "id": "30f8eb37",
   "metadata": {},
   "outputs": [],
   "source": [
    "final[dentine_os != 0] = pag_reconstruction[dentine_os != 0]"
   ]
  },
  {
   "cell_type": "code",
   "execution_count": 16,
   "id": "c5a5cc7e",
   "metadata": {},
   "outputs": [
    {
     "name": "stderr",
     "output_type": "stream",
     "text": [
      "WARNING: QWindowsWindow::setGeometry: Unable to set geometry 1086x655-1063+840 (frame: 1102x694-1071+809) on QWidgetWindow/\"_QtMainWindowClassWindow\" on \"\\\\.\\DISPLAY1\". Resulting geometry: 723x653-1066+826 (frame: 739x692-1074+795) margins: 8, 31, 8, 8 minimum size: 385x492 MINMAXINFO maxSize=0,0 maxpos=0,0 mintrack=401,531 maxtrack=0,0)\n"
     ]
    },
    {
     "data": {
      "text/plain": [
       "<Image layer 'Reconstruction' at 0x272726ffbc0>"
      ]
     },
     "execution_count": 16,
     "metadata": {},
     "output_type": "execute_result"
    }
   ],
   "source": [
    "viewer = napari.Viewer()\n",
    "viewer.add_image(final, name=\"Reconstruction\", colormap=\"gray\")"
   ]
  },
  {
   "cell_type": "markdown",
   "id": "e855938d",
   "metadata": {},
   "source": [
    "### Step 3"
   ]
  },
  {
   "cell_type": "code",
   "execution_count": 26,
   "id": "b84e473a",
   "metadata": {},
   "outputs": [
    {
     "data": {
      "text/plain": [
       "<Image layer 'Reconstruction' at 0x276e566f1d0>"
      ]
     },
     "execution_count": 26,
     "metadata": {},
     "output_type": "execute_result"
    }
   ],
   "source": [
    "raw2_reconstruction[dentine_os != 0] = 0.0001\n",
    "\n",
    "viewer = napari.Viewer()\n",
    "viewer.add_image(raw2_reconstruction, name=\"Reconstruction\", colormap=\"gray\")"
   ]
  },
  {
   "cell_type": "code",
   "execution_count": 27,
   "id": "4d4e949a",
   "metadata": {},
   "outputs": [
    {
     "name": "stderr",
     "output_type": "stream",
     "text": [
      "Reconstructing: 100%|██████████| 650/650 [00:41<00:00, 15.59it/s]\n"
     ]
    }
   ],
   "source": [
    "pag2_sino = np.zeros_like(sinogram)\n",
    "\n",
    "for i in tqdm(range(raw2_reconstruction.shape[0]), desc=\"Reconstructing\"):\n",
    "    sino_ = get_sinogram_slice(raw2_reconstruction[i], angles)\n",
    "    pag2_sino[i] = sino_\n",
    "\n",
    "projs = np.swapaxes(pag2_sino, 0, 1)"
   ]
  },
  {
   "cell_type": "code",
   "execution_count": 19,
   "id": "5c2e5333",
   "metadata": {},
   "outputs": [
    {
     "name": "stderr",
     "output_type": "stream",
     "text": [
      "WARNING: QWindowsWindow::setGeometry: Unable to set geometry 1086x655-1063+840 (frame: 1102x694-1071+809) on QWidgetWindow/\"_QtMainWindowClassWindow\" on \"\\\\.\\DISPLAY1\". Resulting geometry: 723x653-1066+826 (frame: 739x692-1074+795) margins: 8, 31, 8, 8 minimum size: 385x492 MINMAXINFO maxSize=0,0 maxpos=0,0 mintrack=401,531 maxtrack=0,0)\n"
     ]
    },
    {
     "data": {
      "text/plain": [
       "<Image layer 'Pagani 2 Projection' at 0x272ebccbc20>"
      ]
     },
     "execution_count": 19,
     "metadata": {},
     "output_type": "execute_result"
    }
   ],
   "source": [
    "viewer = napari.Viewer()\n",
    "viewer.add_image(projs, name=\"Pagani 2 Projection\", colormap=\"gray\")"
   ]
  },
  {
   "cell_type": "code",
   "execution_count": 28,
   "id": "28b8bd92",
   "metadata": {},
   "outputs": [
    {
     "name": "stderr",
     "output_type": "stream",
     "text": [
      "Processing Paganin: 100%|██████████| 1425/1425 [00:39<00:00, 36.26it/s]\n"
     ]
    }
   ],
   "source": [
    "from src.reco_plugin.processing.phase import paganin_filter\n",
    "\n",
    "energy = 40 # keV\n",
    "pixel = 12e-6 # m\n",
    "effective_pixel = pixel # m\n",
    "distance = 1.2 # m\n",
    "db = 1500\n",
    "\n",
    "pagain2_proj = paganin_filter(projs, energy, pixel, effective_pixel, distance, db)['paganin']"
   ]
  },
  {
   "cell_type": "code",
   "execution_count": 29,
   "id": "5ab4fd70",
   "metadata": {},
   "outputs": [
    {
     "name": "stderr",
     "output_type": "stream",
     "text": [
      "Reconstructing: 100%|██████████| 650/650 [01:46<00:00,  6.07it/s]\n"
     ]
    }
   ],
   "source": [
    "import numpy as np\n",
    "import cupy as cp\n",
    "from tqdm import tqdm\n",
    "\n",
    "from src.reco_plugin.processing.reconstruction import create_angles, reconstruct_from_sinogram_slice, create_disk_mask\n",
    "from src.reco_plugin.processing.sinogram import create_sinogram\n",
    "from src.reco_plugin.processing.phase import unsharp_mask\n",
    "\n",
    "coeff = 0.5\n",
    "sigma = 2\n",
    "\n",
    "sinogram = np.swapaxes(pagain2_proj, 0, 1)\n",
    "angles = create_angles(sinogram, end=np.pi)\n",
    "mask = create_disk_mask(sinogram)\n",
    "\n",
    "for i in tqdm(range(sinogram.shape[0]), desc=\"Reconstructing\"):\n",
    "    slice_ = reconstruct_from_sinogram_slice(sinogram[i], angles) * mask\n",
    "    pag_reconstruction[i] = slice_"
   ]
  },
  {
   "cell_type": "code",
   "execution_count": 30,
   "id": "cd61e611",
   "metadata": {},
   "outputs": [
    {
     "name": "stderr",
     "output_type": "stream",
     "text": [
      "WARNING: QWindowsWindow::setGeometry: Unable to set geometry 1086x655-1066+833 (frame: 1102x694-1074+802) on QWidgetWindow/\"_QtMainWindowClassWindow\" on \"\\\\.\\DISPLAY1\". Resulting geometry: 723x653-1069+819 (frame: 739x692-1077+788) margins: 8, 31, 8, 8 minimum size: 385x492 MINMAXINFO maxSize=0,0 maxpos=0,0 mintrack=401,531 maxtrack=0,0)\n"
     ]
    },
    {
     "data": {
      "text/plain": [
       "<Image layer 'Paganin 2 Projection' at 0x276fab771a0>"
      ]
     },
     "execution_count": 30,
     "metadata": {},
     "output_type": "execute_result"
    }
   ],
   "source": [
    "import napari\n",
    "\n",
    "viewer = napari.Viewer()\n",
    "viewer.add_image(pag_reconstruction, name=\"Paganin 2 Projection\", colormap=\"gray\")"
   ]
  },
  {
   "cell_type": "code",
   "execution_count": 23,
   "id": "9b6807e0",
   "metadata": {},
   "outputs": [],
   "source": [
    "# pag_reconstruction[final != 0] = final[final != 0]\n",
    "test = np.copy(pag_reconstruction)\n",
    "test[final != 0] = final[final != 0]"
   ]
  },
  {
   "cell_type": "code",
   "execution_count": 24,
   "id": "879733c7",
   "metadata": {},
   "outputs": [
    {
     "name": "stderr",
     "output_type": "stream",
     "text": [
      "WARNING: QWindowsWindow::setGeometry: Unable to set geometry 1086x655-1063+840 (frame: 1102x694-1071+809) on QWidgetWindow/\"_QtMainWindowClassWindow\" on \"\\\\.\\DISPLAY1\". Resulting geometry: 723x653-1066+826 (frame: 739x692-1074+795) margins: 8, 31, 8, 8 minimum size: 385x492 MINMAXINFO maxSize=0,0 maxpos=0,0 mintrack=401,531 maxtrack=0,0)\n"
     ]
    },
    {
     "data": {
      "text/plain": [
       "<Image layer 'Reconstruction' at 0x276bd0fd4c0>"
      ]
     },
     "execution_count": 24,
     "metadata": {},
     "output_type": "execute_result"
    }
   ],
   "source": [
    "viewer = napari.Viewer()\n",
    "viewer.add_image(test, name=\"Reconstruction\", colormap=\"gray\")"
   ]
  }
 ],
 "metadata": {
  "kernelspec": {
   "display_name": "Python 3",
   "language": "python",
   "name": "python3"
  },
  "language_info": {
   "codemirror_mode": {
    "name": "ipython",
    "version": 3
   },
   "file_extension": ".py",
   "mimetype": "text/x-python",
   "name": "python",
   "nbconvert_exporter": "python",
   "pygments_lexer": "ipython3",
   "version": "3.12.3"
  }
 },
 "nbformat": 4,
 "nbformat_minor": 5
}

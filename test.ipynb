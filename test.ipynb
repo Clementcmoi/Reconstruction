{
 "cells": [
  {
   "cell_type": "code",
   "execution_count": 2,
   "id": "1e11547e",
   "metadata": {},
   "outputs": [
    {
     "name": "stdout",
     "output_type": "stream",
     "text": [
      "1.5498024804150033e-10\n"
     ]
    }
   ],
   "source": [
    "from reco_plugin.constants import *\n",
    "\n",
    "def keVtoLambda(keV: float) -> float:\n",
    "    E = keV * KEV_TO_JOULE              # en J\n",
    "    wavelength_m = (PLANCK_J_S * LIGHT_SPEED) / E  # en m\n",
    "    return wavelength_m\n",
    "\n",
    "print(keVtoLambda(8))  # 1 keV to m"
   ]
  }
 ],
 "metadata": {
  "kernelspec": {
   "display_name": "napari-env",
   "language": "python",
   "name": "python3"
  },
  "language_info": {
   "codemirror_mode": {
    "name": "ipython",
    "version": 3
   },
   "file_extension": ".py",
   "mimetype": "text/x-python",
   "name": "python",
   "nbconvert_exporter": "python",
   "pygments_lexer": "ipython3",
   "version": "3.12.3"
  }
 },
 "nbformat": 4,
 "nbformat_minor": 5
}
